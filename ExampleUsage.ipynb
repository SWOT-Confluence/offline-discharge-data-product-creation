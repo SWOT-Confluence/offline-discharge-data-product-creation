{
 "cells": [
  {
   "cell_type": "code",
   "execution_count": 26,
   "metadata": {},
   "outputs": [],
   "source": [
    "# discharge.py usage\n",
    "# by Rui, Aug 2021"
   ]
  },
  {
   "cell_type": "code",
   "execution_count": 33,
   "metadata": {},
   "outputs": [],
   "source": [
    "import pickle\n",
    "import src.discharge"
   ]
  },
  {
   "cell_type": "code",
   "execution_count": 32,
   "metadata": {},
   "outputs": [],
   "source": [
    "\"\"\"\n",
    "inputs:\n",
    "    ----------\n",
    "    reach:\n",
    "        - reach['area_fits'] contains the parameters of cross-sectional area change  \n",
    "        - reach['discharge_models'] contains the parameters of 5 discharge models  \n",
    "        \n",
    "    reach_stats: \n",
    "        - reach_stats['height'], SWOT reach height [m] \n",
    "        - reach_stats['width'], SWOT reach width [m]\n",
    "        - reach_stats['slope'], SWOT reach slope [m/m]\n",
    "        \n",
    "outputs:\n",
    "    ----------\n",
    "    d_x_area: cross-sectional area change [m^2]\n",
    "    d_x_area_u: cross-sectional area change uncertainty [m^2]\n",
    "    metro_q_c : MetroMan discharge gage constrained [m^3/s]\n",
    "    metro_q_uc : MetroMan discharge gage un-constrained [m^3/s]\n",
    "    bam_q_c : BAM discharge gage constrained [m^3/s]\n",
    "    bam_q_uc : BAM discharge gage un-constrained [m^3/s]\n",
    "    bam_q_c : BAM discharge gage constrained [m^3/s]\n",
    "    bam_q_uc : BAM discharge gage un-constrained [m^3/s]\n",
    "    hivdi_q_c : HiVDI discharge gage constrained [m^3/s]\n",
    "    hivdi_q_uc : HiVDI discharge gage un-constrained [m^3/s]\n",
    "    momma_q_c : MOMMA discharge gage constrained [m^3/s]\n",
    "    momma_q_uc : MOMMA discharge gage un-constrained [m^3/s]\n",
    "    sads_q_c : SADS discharge gage constrained [m^3/s]\n",
    "    sads_q_uc : SADS discharge gage un-constrained [m^3/s]\n",
    "    \n",
    "    **Discharge uncertainties are not implemented at this moment\n",
    "\"\"\"\n",
    "\n",
    "# load data saved from the RiverObs run on Sac reaches\n",
    "# note: some of the items under the dict provided in the /data won't be used\n",
    "reach_stats = pickle.load(open\n",
    "                ('/Users/rui/Desktop/Github/offline-discharge-data-product-creation/data/reach25.pkl', \"rb\"))\n",
    "reach = pickle.load(open\n",
    "                ('/Users/rui/Desktop/Github/offline-discharge-data-product-creation/data/reach_prd25.pkl', \"rb\"))"
   ]
  },
  {
   "cell_type": "code",
   "execution_count": 30,
   "metadata": {},
   "outputs": [
    {
     "name": "stdout",
     "output_type": "stream",
     "text": [
      "{'d_x_area': masked_array(data=52.33427927,\n",
      "             mask=False,\n",
      "       fill_value=-9999.0), 'd_x_area_u': 11.824505731801548, 'metro_q_uc': -999999999999, 'bam_q_uc': -999999999999, 'hivdi_q_uc': -999999999999, 'momma_q_uc': -999999999999, 'sads_q_uc': -999999999999, 'metro_q_c': masked_array(data=[238.38807826039445],\n",
      "             mask=[False],\n",
      "       fill_value=-9999.0), 'bam_q_c': masked_array(data=[213.30025300914113],\n",
      "             mask=[False],\n",
      "       fill_value=-9999.0), 'hivdi_q_c': masked_array(data=[238.3870520470281],\n",
      "             mask=[False],\n",
      "       fill_value=-9999.0), 'momma_q_c': masked_array(data=[215.14117112199818],\n",
      "             mask=[False],\n",
      "       fill_value=-9999.0), 'sads_q_c': masked_array(data=[213.30025300914113],\n",
      "             mask=[False],\n",
      "       fill_value=-9999.0)}\n"
     ]
    }
   ],
   "source": [
    "# run discharge module\n",
    "# copied from RiverObs/src/SWOTRiver\n",
    "discharge_model_values = src.discharge.compute(\n",
    "            reach, reach_stats['height'], reach_stats['width'],\n",
    "            reach_stats['slope'])\n",
    "\n",
    "\n",
    "print(discharge_model_values)"
   ]
  },
  {
   "cell_type": "code",
   "execution_count": null,
   "metadata": {},
   "outputs": [],
   "source": []
  }
 ],
 "metadata": {
  "kernelspec": {
   "display_name": "Python 3",
   "language": "python",
   "name": "python3"
  },
  "language_info": {
   "codemirror_mode": {
    "name": "ipython",
    "version": 3
   },
   "file_extension": ".py",
   "mimetype": "text/x-python",
   "name": "python",
   "nbconvert_exporter": "python",
   "pygments_lexer": "ipython3",
   "version": "3.8.3"
  }
 },
 "nbformat": 4,
 "nbformat_minor": 4
}
