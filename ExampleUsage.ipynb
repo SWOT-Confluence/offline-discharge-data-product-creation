{
 "cells": [
  {
   "cell_type": "code",
   "execution_count": 26,
   "metadata": {},
   "outputs": [],
   "source": [
    "# discharge.py usage\n",
    "# by Rui, Aug 2021"
   ]
  },
  {
   "cell_type": "code",
   "execution_count": 1,
   "metadata": {},
   "outputs": [],
   "source": [
    "import pickle\n",
    "import src.discharge\n",
    "import src.ReadObs\n",
    "import src.ReadPRD\n",
    "\"\"\"\n",
    "inputs:\n",
    "    ----------\n",
    "    reach:\n",
    "        - reach['area_fits'] contains the parameters of cross-sectional area change  \n",
    "        - reach['discharge_models'] contains the parameters of 5 discharge models  \n",
    "        \n",
    "    reach_stats: \n",
    "        - reach_stats['height'], SWOT reach height [m] \n",
    "        - reach_stats['width'], SWOT reach width [m]\n",
    "        - reach_stats['slope'], SWOT reach slope [m/m]\n",
    "        \n",
    "outputs:\n",
    "    ----------\n",
    "    d_x_area: cross-sectional area change [m^2]\n",
    "    d_x_area_u: cross-sectional area change uncertainty [m^2]\n",
    "    metro_q_c : MetroMan discharge gage constrained [m^3/s]\n",
    "    metro_q_uc : MetroMan discharge gage un-constrained [m^3/s]\n",
    "    bam_q_c : BAM discharge gage constrained [m^3/s]\n",
    "    bam_q_uc : BAM discharge gage un-constrained [m^3/s]\n",
    "    bam_q_c : BAM discharge gage constrained [m^3/s]\n",
    "    bam_q_uc : BAM discharge gage un-constrained [m^3/s]\n",
    "    hivdi_q_c : HiVDI discharge gage constrained [m^3/s]\n",
    "    hivdi_q_uc : HiVDI discharge gage un-constrained [m^3/s]\n",
    "    momma_q_c : MOMMA discharge gage constrained [m^3/s]\n",
    "    momma_q_uc : MOMMA discharge gage un-constrained [m^3/s]\n",
    "    sads_q_c : SADS discharge gage constrained [m^3/s]\n",
    "    sads_q_uc : SADS discharge gage un-constrained [m^3/s]\n",
    "    \n",
    "    **Discharge uncertainties are not implemented at this moment\n",
    "\"\"\"\n",
    "\n",
    "# load data saved from the RiverObs run on Sac reaches\n",
    "# note: some of the items under the dict provided in the /data won't be used\n",
    "obs ='/Users/rui/Desktop/Github/offline-discharge-data-product-\\\n",
    "creation/data/sac_pkl_files/reach25.pkl'\n",
    "prd ='/Users/rui/Desktop/Github/offline-discharge-data-product-\\\n",
    "creation/data/sac_pkl_files/reach_prd25.pkl'\n",
    "reach_stats = pickle.load(open(obs, \"rb\"))\n",
    "reach = pickle.load(open(prd, \"rb\"))"
   ]
  },
  {
   "cell_type": "code",
   "execution_count": 2,
   "metadata": {},
   "outputs": [
    {
     "name": "stdout",
     "output_type": "stream",
     "text": [
      "{'d_x_area': masked_array(data=52.33427927,\n",
      "             mask=False,\n",
      "       fill_value=-9999.0), 'd_x_area_u': 11.824505731801548, 'metro_q_uc': -999999999999, 'bam_q_uc': -999999999999, 'hivdi_q_uc': -999999999999, 'momma_q_uc': -999999999999, 'sads_q_uc': -999999999999, 'metro_q_c': masked_array(data=[238.38807826039445],\n",
      "             mask=[False],\n",
      "       fill_value=-9999.0), 'bam_q_c': masked_array(data=[213.30025300914113],\n",
      "             mask=[False],\n",
      "       fill_value=-9999.0), 'hivdi_q_c': masked_array(data=[238.3870520470281],\n",
      "             mask=[False],\n",
      "       fill_value=-9999.0), 'momma_q_c': masked_array(data=[215.14117112199818],\n",
      "             mask=[False],\n",
      "       fill_value=-9999.0), 'sads_q_c': masked_array(data=[213.30025300914113],\n",
      "             mask=[False],\n",
      "       fill_value=-9999.0)}\n"
     ]
    },
    {
     "name": "stderr",
     "output_type": "stream",
     "text": [
      "/Users/rui/Desktop/Github/offline-discharge-data-product-creation/src/discharge.py:77: RuntimeWarning: invalid value encountered in log10\n",
      "  log_factor = np.log10((momma_H-momma_B)/(reach_height-momma_B))\n"
     ]
    }
   ],
   "source": [
    "# example 1. run discharge module using the .pkl data saved from RiverObs runs\n",
    "# copied from RiverObs/src/SWOTRiver\n",
    "discharge_model_values = src.discharge.compute(\n",
    "            reach, reach_stats['height'], reach_stats['width'],\n",
    "            reach_stats['slope'])\n",
    "\n",
    "\n",
    "print(discharge_model_values)"
   ]
  },
  {
   "cell_type": "code",
   "execution_count": 3,
   "metadata": {},
   "outputs": [
    {
     "name": "stderr",
     "output_type": "stream",
     "text": [
      "/Users/rui/Desktop/Github/offline-discharge-data-product-creation/src/discharge.py:76: RuntimeWarning: invalid value encountered in power\n",
      "  momma_nb = 0.11 * momma_Save**0.18\n",
      "/Users/rui/Desktop/Github/offline-discharge-data-product-creation/src/discharge.py:77: RuntimeWarning: divide by zero encountered in log10\n",
      "  log_factor = np.log10((momma_H-momma_B)/(reach_height-momma_B))\n"
     ]
    },
    {
     "name": "stdout",
     "output_type": "stream",
     "text": [
      "14 {'d_x_area': 5.00000499948995e+23, 'd_x_area_u': 7071774812591.249, 'metro_q_uc': -999999999999, 'bam_q_uc': -999999999999, 'hivdi_q_uc': -999999999999, 'momma_q_uc': -999999999999, 'sads_q_uc': -999999999999, 'metro_q_c': -999999999999, 'bam_q_c': -999999999999, 'hivdi_q_c': -999999999999, 'momma_q_c': -999999999999, 'sads_q_c': -999999999999}\n",
      "15 {'d_x_area': 5.00000499948995e+23, 'd_x_area_u': 7071774812591.249, 'metro_q_uc': -999999999999, 'bam_q_uc': -999999999999, 'hivdi_q_uc': -999999999999, 'momma_q_uc': -999999999999, 'sads_q_uc': -999999999999, 'metro_q_c': -999999999999, 'bam_q_c': -999999999999, 'hivdi_q_c': -999999999999, 'momma_q_c': -999999999999, 'sads_q_c': -999999999999}\n",
      "16 {'d_x_area': 5.00000499948995e+23, 'd_x_area_u': 7071774812591.249, 'metro_q_uc': -999999999999, 'bam_q_uc': -999999999999, 'hivdi_q_uc': -999999999999, 'momma_q_uc': -999999999999, 'sads_q_uc': -999999999999, 'metro_q_c': -999999999999, 'bam_q_c': -999999999999, 'hivdi_q_c': -999999999999, 'momma_q_c': -999999999999, 'sads_q_c': -999999999999}\n",
      "17 {'d_x_area': 5.00000499948995e+23, 'd_x_area_u': 7071774812591.249, 'metro_q_uc': -999999999999, 'bam_q_uc': -999999999999, 'hivdi_q_uc': -999999999999, 'momma_q_uc': -999999999999, 'sads_q_uc': -999999999999, 'metro_q_c': -999999999999, 'bam_q_c': -999999999999, 'hivdi_q_c': -999999999999, 'momma_q_c': -999999999999, 'sads_q_c': -999999999999}\n",
      "18 {'d_x_area': 26.24099160075923, 'd_x_area_u': 8.070828060872602, 'metro_q_uc': -999999999999, 'bam_q_uc': -999999999999, 'hivdi_q_uc': -999999999999, 'momma_q_uc': -999999999999, 'sads_q_uc': -999999999999, 'metro_q_c': array([226.86373347]), 'bam_q_c': array([220.50975671]), 'hivdi_q_c': array([226.86111778]), 'momma_q_c': array([195.77213754]), 'sads_q_c': array([220.50975671])}\n",
      "19 {'d_x_area': 19.614283581986683, 'd_x_area_u': 7.690210640133219, 'metro_q_uc': -999999999999, 'bam_q_uc': -999999999999, 'hivdi_q_uc': -999999999999, 'momma_q_uc': -999999999999, 'sads_q_uc': -999999999999, 'metro_q_c': array([208.35906316]), 'bam_q_c': array([196.3184235]), 'hivdi_q_c': array([208.3555904]), 'momma_q_c': array([173.4242141]), 'sads_q_c': array([196.3184235])}\n",
      "20 {'d_x_area': 20.285282286533118, 'd_x_area_u': 8.918979936707316, 'metro_q_uc': -999999999999, 'bam_q_uc': -999999999999, 'hivdi_q_uc': -999999999999, 'momma_q_uc': -999999999999, 'sads_q_uc': -999999999999, 'metro_q_c': array([186.96885814]), 'bam_q_c': array([180.52554096]), 'hivdi_q_c': array([186.96736698]), 'momma_q_c': array([173.2167316]), 'sads_q_c': array([180.52554096])}\n",
      "21 {'d_x_area': 35.18543763135801, 'd_x_area_u': 11.215371392959488, 'metro_q_uc': -999999999999, 'bam_q_uc': -999999999999, 'hivdi_q_uc': -999999999999, 'momma_q_uc': -999999999999, 'sads_q_uc': -999999999999, 'metro_q_c': array([212.19431267]), 'bam_q_c': array([211.81716394]), 'hivdi_q_c': array([212.19337304]), 'momma_q_c': array([180.99628535]), 'sads_q_c': array([211.81716394])}\n",
      "22 {'d_x_area': 16.75388249082164, 'd_x_area_u': 8.6906105927611, 'metro_q_uc': -999999999999, 'bam_q_uc': -999999999999, 'hivdi_q_uc': -999999999999, 'momma_q_uc': -999999999999, 'sads_q_uc': -999999999999, 'metro_q_c': array([194.22305739]), 'bam_q_c': array([190.94295158]), 'hivdi_q_c': array([194.2216579]), 'momma_q_c': array([202.98647091]), 'sads_q_c': array([190.94295158])}\n",
      "23 {'d_x_area': 27.848813993848637, 'd_x_area_u': 9.18981290488338, 'metro_q_uc': -999999999999, 'bam_q_uc': -999999999999, 'hivdi_q_uc': -999999999999, 'momma_q_uc': -999999999999, 'sads_q_uc': -999999999999, 'metro_q_c': array([212.02762687]), 'bam_q_c': array([207.35807092]), 'hivdi_q_c': array([212.02611403]), 'momma_q_c': array([212.51414232]), 'sads_q_c': array([207.35807092])}\n",
      "24 {'d_x_area': 52.33427927416909, 'd_x_area_u': 11.824505731801548, 'metro_q_uc': -999999999999, 'bam_q_uc': -999999999999, 'hivdi_q_uc': -999999999999, 'momma_q_uc': -999999999999, 'sads_q_uc': -999999999999, 'metro_q_c': array([238.38807826]), 'bam_q_c': array([213.30025301]), 'hivdi_q_c': array([238.38705205]), 'momma_q_c': array([215.14117112]), 'sads_q_c': array([213.30025301])}\n",
      "25 {'d_x_area': 56.787690139450085, 'd_x_area_u': 13.424945884735834, 'metro_q_uc': -999999999999, 'bam_q_uc': -999999999999, 'hivdi_q_uc': -999999999999, 'momma_q_uc': -999999999999, 'sads_q_uc': -999999999999, 'metro_q_c': array([251.69890242]), 'bam_q_c': array([260.65595215]), 'hivdi_q_c': array([251.69915393]), 'momma_q_c': array([120.81191391]), 'sads_q_c': array([260.65595215])}\n",
      "26 {'d_x_area': 64.1438919446282, 'd_x_area_u': 17.24918571438263, 'metro_q_uc': -999999999999, 'bam_q_uc': -999999999999, 'hivdi_q_uc': -999999999999, 'momma_q_uc': -999999999999, 'sads_q_uc': -999999999999, 'metro_q_c': array([241.50896938]), 'bam_q_c': array([248.55245181]), 'hivdi_q_c': array([241.50909443]), 'momma_q_c': array([155.93128562]), 'sads_q_c': array([248.55245181])}\n",
      "27 {'d_x_area': 69.2875487447709, 'd_x_area_u': 17.98995677505732, 'metro_q_uc': -999999999999, 'bam_q_uc': -999999999999, 'hivdi_q_uc': -999999999999, 'momma_q_uc': -999999999999, 'sads_q_uc': -999999999999, 'metro_q_c': array([255.89831346]), 'bam_q_c': array([270.62189735]), 'hivdi_q_c': array([255.89839668]), 'momma_q_c': array([129.21875376]), 'sads_q_c': array([270.62189735])}\n",
      "28 {'d_x_area': 64.63533583069328, 'd_x_area_u': 15.387896925074543, 'metro_q_uc': -999999999999, 'bam_q_uc': -999999999999, 'hivdi_q_uc': -999999999999, 'momma_q_uc': -999999999999, 'sads_q_uc': -999999999999, 'metro_q_c': array([238.54718632]), 'bam_q_c': array([244.12773584]), 'hivdi_q_c': array([236.20331866]), 'momma_q_c': array([100.09430397]), 'sads_q_c': array([244.12773584])}\n",
      "29 {'d_x_area': 45.40330335366161, 'd_x_area_u': 18.72585406693098, 'metro_q_uc': -999999999999, 'bam_q_uc': -999999999999, 'hivdi_q_uc': -999999999999, 'momma_q_uc': -999999999999, 'sads_q_uc': -999999999999, 'metro_q_c': array([225.45664487]), 'bam_q_c': array([230.55489155]), 'hivdi_q_c': array([225.45686026]), 'momma_q_c': array([61.79948412]), 'sads_q_c': array([230.55489155])}\n",
      "30 {'d_x_area': 50.835421957003746, 'd_x_area_u': 13.327611453169043, 'metro_q_uc': -999999999999, 'bam_q_uc': -999999999999, 'hivdi_q_uc': -999999999999, 'momma_q_uc': -999999999999, 'sads_q_uc': -999999999999, 'metro_q_c': array([259.90589305]), 'bam_q_c': array([269.35533971]), 'hivdi_q_c': array([259.90582014]), 'momma_q_c': array([138.54273996]), 'sads_q_c': array([269.35533971])}\n",
      "31 {'d_x_area': 57.788550601744646, 'd_x_area_u': 15.50433044873654, 'metro_q_uc': -999999999999, 'bam_q_uc': -999999999999, 'hivdi_q_uc': -999999999999, 'momma_q_uc': -999999999999, 'sads_q_uc': -999999999999, 'metro_q_c': array([257.52441573]), 'bam_q_c': array([270.00201475]), 'hivdi_q_c': array([257.52445471]), 'momma_q_c': array([71.43406779]), 'sads_q_c': array([270.00201475])}\n",
      "32 {'d_x_area': 95.40043001854065, 'd_x_area_u': 17.82935713067821, 'metro_q_uc': -999999999999, 'bam_q_uc': -999999999999, 'hivdi_q_uc': -999999999999, 'momma_q_uc': -999999999999, 'sads_q_uc': -999999999999, 'metro_q_c': array([271.49013909]), 'bam_q_c': array([660.3202311]), 'hivdi_q_c': array([271.49013909]), 'momma_q_c': array([659.84747305]), 'sads_q_c': array([660.3202311])}\n"
     ]
    }
   ],
   "source": [
    "# example 2. run discharge module using getting the data saved from SWORD/PRD and rivertile\n",
    "# read swot rivertile\n",
    "rivertile_path = '/Users/rui/Desktop/Github/offline-discharge-data-product-\\\n",
    "creation/data/rivertile/rivertile.nc'\n",
    "obs = src.ReadObs.Rivertile(rivertile_path)\n",
    "\n",
    "# read prd/sword\n",
    "sword_path = '/Users/rui/Desktop/Github/offline-discharge-data-product-\\\n",
    "creation/data/sword/na_apriori_rivers_v07_4q_v8.nc'\n",
    "for i in range(len(obs['reach_id'])):\n",
    "    prd = src.ReadPRD.ReachDatabase(sword_path, obs['reach_id'][i])\n",
    "    \n",
    "    if prd['area_fits']['h_w_nobs'] != -9999:\n",
    "        discharge_model_values = src.discharge.compute(\n",
    "                prd, obs['height'][i], obs['width'][i],\n",
    "                obs['slope'][i])\n",
    "        print(i, discharge_model_values)"
   ]
  },
  {
   "cell_type": "code",
   "execution_count": null,
   "metadata": {},
   "outputs": [],
   "source": []
  },
  {
   "cell_type": "code",
   "execution_count": null,
   "metadata": {},
   "outputs": [],
   "source": []
  }
 ],
 "metadata": {
  "kernelspec": {
   "display_name": "Python 3",
   "language": "python",
   "name": "python3"
  },
  "language_info": {
   "codemirror_mode": {
    "name": "ipython",
    "version": 3
   },
   "file_extension": ".py",
   "mimetype": "text/x-python",
   "name": "python",
   "nbconvert_exporter": "python",
   "pygments_lexer": "ipython3",
   "version": "3.8.3"
  }
 },
 "nbformat": 4,
 "nbformat_minor": 4
}
