{
 "cells": [
  {
   "cell_type": "code",
   "execution_count": 1,
   "metadata": {},
   "outputs": [],
   "source": [
    "# discharge.py usage\n",
    "# by Rui, Aug 2021"
   ]
  },
  {
   "cell_type": "code",
   "execution_count": 5,
   "metadata": {},
   "outputs": [],
   "source": [
    "import pickle\n",
    "from offline import discharge\n",
    "from offline import ReadObs\n",
    "from offline import ReadOb\n",
    "from offline import ReadPRD\n",
    "from offline import ReadQparams\n",
    "\"\"\"\n",
    "inputs:\n",
    "    ----------\n",
    "    reach:\n",
    "        - reach['area_fits'] contains the parameters of cross-sectional area change  \n",
    "        - reach['discharge_models'] contains the parameters of 5 discharge models  \n",
    "        \n",
    "    reach_stats: \n",
    "        - reach_stats['height'], SWOT reach height [m] \n",
    "        - reach_stats['width'], SWOT reach width [m]\n",
    "        - reach_stats['slope'], SWOT reach slope [m/m]\n",
    "        \n",
    "outputs:\n",
    "    ----------\n",
    "    d_x_area: cross-sectional area change [m^2]\n",
    "    d_x_area_u: cross-sectional area change uncertainty [m^2]\n",
    "    metro_q_c : MetroMan discharge gage constrained [m^3/s]\n",
    "    metro_q_uc : MetroMan discharge gage un-constrained [m^3/s]\n",
    "    bam_q_c : BAM discharge gage constrained [m^3/s]\n",
    "    bam_q_uc : BAM discharge gage un-constrained [m^3/s]\n",
    "    bam_q_c : BAM discharge gage constrained [m^3/s]\n",
    "    bam_q_uc : BAM discharge gage un-constrained [m^3/s]\n",
    "    hivdi_q_c : HiVDI discharge gage constrained [m^3/s]\n",
    "    hivdi_q_uc : HiVDI discharge gage un-constrained [m^3/s]\n",
    "    momma_q_c : MOMMA discharge gage constrained [m^3/s]\n",
    "    momma_q_uc : MOMMA discharge gage un-constrained [m^3/s]\n",
    "    sads_q_c : SADS discharge gage constrained [m^3/s]\n",
    "    sads_q_uc : SADS discharge gage un-constrained [m^3/s]\n",
    "    \n",
    "    **Discharge uncertainties are not implemented at this moment\n",
    "\"\"\"\n",
    "\n",
    "# load data saved from the RiverObs run on Sac reaches\n",
    "# note: some of the items under the dict provided in the /data won't be used\n",
    "obs ='/Users/rui/Desktop/Github/offline-discharge-data-product-\\\n",
    "creation/data/sac_pkl_files/reach25.pkl'\n",
    "prd ='/Users/rui/Desktop/Github/offline-discharge-data-product-\\\n",
    "creation/data/sac_pkl_files/reach_prd25.pkl'\n",
    "reach_stats = pickle.load(open(obs, \"rb\"))\n",
    "reach = pickle.load(open(prd, \"rb\"))"
   ]
  },
  {
   "cell_type": "code",
   "execution_count": 8,
   "metadata": {},
   "outputs": [
    {
     "ename": "TypeError",
     "evalue": "compute() missing 1 required positional argument: 'reach_d_x_area'",
     "output_type": "error",
     "traceback": [
      "\u001b[0;31m---------------------------------------------------------------------------\u001b[0m",
      "\u001b[0;31mTypeError\u001b[0m                                 Traceback (most recent call last)",
      "\u001b[0;32m<ipython-input-8-cacb326b9e58>\u001b[0m in \u001b[0;36m<module>\u001b[0;34m\u001b[0m\n\u001b[1;32m      1\u001b[0m \u001b[0;31m# example 1. run discharge module using the .pkl data saved from RiverObs runs\u001b[0m\u001b[0;34m\u001b[0m\u001b[0;34m\u001b[0m\u001b[0;34m\u001b[0m\u001b[0m\n\u001b[1;32m      2\u001b[0m \u001b[0;31m# copied from RiverObs/src/SWOTRiver\u001b[0m\u001b[0;34m\u001b[0m\u001b[0;34m\u001b[0m\u001b[0;34m\u001b[0m\u001b[0m\n\u001b[0;32m----> 3\u001b[0;31m discharge_model_values = discharge.compute(\n\u001b[0m\u001b[1;32m      4\u001b[0m             \u001b[0mreach\u001b[0m\u001b[0;34m,\u001b[0m \u001b[0mreach_stats\u001b[0m\u001b[0;34m[\u001b[0m\u001b[0;34m'height'\u001b[0m\u001b[0;34m]\u001b[0m\u001b[0;34m,\u001b[0m \u001b[0mreach_stats\u001b[0m\u001b[0;34m[\u001b[0m\u001b[0;34m'width'\u001b[0m\u001b[0;34m]\u001b[0m\u001b[0;34m,\u001b[0m\u001b[0;34m\u001b[0m\u001b[0;34m\u001b[0m\u001b[0m\n\u001b[1;32m      5\u001b[0m             reach_stats['slope'])\n",
      "\u001b[0;31mTypeError\u001b[0m: compute() missing 1 required positional argument: 'reach_d_x_area'"
     ]
    }
   ],
   "source": [
    "# example 1. run discharge module using the .pkl data saved from RiverObs runs\n",
    "# copied from RiverObs/src/SWOTRiver\n",
    "discharge_model_values = discharge.compute(\n",
    "            reach, reach_stats['height'], reach_stats['width'],\n",
    "            reach_stats['slope'])\n",
    "\n",
    "\n",
    "# print(discharge_model_values)"
   ]
  },
  {
   "cell_type": "code",
   "execution_count": 9,
   "metadata": {},
   "outputs": [],
   "source": [
    "# # example 2. run discharge module using getting the data saved from SWORD/PRD and rivertile\n",
    "# # read swot rivertile\n",
    "# rivertile_path = '/Users/rui/Desktop/Github/offline-discharge-data-product-\\\n",
    "# creation/data/rivertile/rivertile.nc'\n",
    "# obs = ReadObs.Rivertile(rivertile_path)\n",
    "\n",
    "# # read prd/sword\n",
    "# sword_path = '/Users/rui/Desktop/Github/offline-discharge-data-product-\\\n",
    "# creation/data/sword/na_apriori_rivers_v07_4q_v8.nc'\n",
    "# for i in range(len(obs['reach_id'])):\n",
    "#     prd = ReadPRD.ReachDatabase(sword_path, obs['reach_id'][i])\n",
    "\n",
    "#     if prd['area_fits']['h_w_nobs'] != -9999:\n",
    "#         discharge_model_values = discharge.compute(\n",
    "#                 prd, obs['height'][i], obs['width'][i],\n",
    "#                 obs['slope'][i])\n",
    "#         #print(discharge_model_values)"
   ]
  },
  {
   "cell_type": "code",
   "execution_count": 11,
   "metadata": {},
   "outputs": [],
   "source": [
    "# example 3. run discharge module using getting the data saved from SWORD/PRD and single reach\n",
    "# read swot reach\n",
    "rivertile_dir = '/Users/rui/Desktop/Github/offline-discharge-data-product-creation/data/swot/'\n",
    "reach_id = 77449100061\n",
    "ob = ReadOb.Rivertile(rivertile_dir)\n",
    "\n",
    "# read prd/sword\n",
    "sword_path = '/Users/rui/Desktop/Github/offline-discharge-data-product-\\\n",
    "creation/data/sword/na_apriori_rivers_v07_4q_v8.nc'\n",
    "\n",
    "prd = ReadPRD.ReachDatabase(sword_path, ob['reach_id'])\n",
    "    \n",
    "for i in range(len(ob['height'])):\n",
    "    \n",
    "    if prd['area_fits']['h_w_nobs'] != -9999:\n",
    "        discharge_model_values = discharge.compute(\n",
    "                prd, ob['height'][i], ob['width'][i],\n",
    "                ob['slope'][i])\n",
    "        print(i, prd,'obs',obs['height'][i])"
   ]
  },
  {
   "cell_type": "code",
   "execution_count": 3,
   "metadata": {},
   "outputs": [],
   "source": [
    "# example 4. extract Q params from Confluence\n",
    "from pathlib import Path\n",
    "from offline import discharge\n",
    "from offline import ReadOb\n",
    "from offline import ReadQparams\n",
    "from offline.ReadQparams import extract_alg\n",
    "\n",
    "r_id = \"77449100061\"\n",
    "rivertile_dir = '/Users/rui/Desktop/Github/offline-discharge-data-product-creation/data/swot/'\n",
    "rivertile_file = Path(rivertile_dir + '/' + f'{r_id}_SWOT.nc')\n",
    "\n",
    "ob = ReadOb.Rivertile(rivertile_file)\n",
    "\n",
    "\n",
    "alg_dir = \"/Users/rui/Desktop/Github/offline-discharge-data-product-creation/data/flpe/\"\n",
    "reach = extract_alg(alg_dir, r_id)\n",
    "\n",
    "for i in range(len(ob['height'])):\n",
    "    \n",
    "    if reach['discharge_models']['unconstrained']['BAM']['n'] is not None:\n",
    "        discharge_model_values = discharge.compute(\n",
    "                reach, ob['height'][i], ob['width'][i],\n",
    "                ob['slope'][i], ob['d_x_area'][i])\n",
    "        #print(i, discharge_model_values)\n"
   ]
  }
 ],
 "metadata": {
  "kernelspec": {
   "display_name": "Python 3",
   "language": "python",
   "name": "python3"
  },
  "language_info": {
   "codemirror_mode": {
    "name": "ipython",
    "version": 3
   },
   "file_extension": ".py",
   "mimetype": "text/x-python",
   "name": "python",
   "nbconvert_exporter": "python",
   "pygments_lexer": "ipython3",
   "version": "3.8.3"
  }
 },
 "nbformat": 4,
 "nbformat_minor": 4
}
